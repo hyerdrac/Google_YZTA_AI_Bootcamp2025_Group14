{
 "cells": [
  {
   "cell_type": "markdown",
   "id": "01ba7aa9",
   "metadata": {
    "papermill": {
     "duration": 0.003922,
     "end_time": "2025-06-17T18:20:00.053689",
     "exception": false,
     "start_time": "2025-06-17T18:20:00.049767",
     "status": "completed"
    },
    "tags": []
   },
   "source": [
    "# 1: Setup and Data Loading"
   ]
  },
  {
   "cell_type": "code",
   "execution_count": 1,
   "id": "046a5c82",
   "metadata": {
    "execution": {
     "iopub.execute_input": "2025-06-17T18:20:00.063567Z",
     "iopub.status.busy": "2025-06-17T18:20:00.063165Z",
     "iopub.status.idle": "2025-06-17T18:20:06.589731Z",
     "shell.execute_reply": "2025-06-17T18:20:06.588533Z"
    },
    "papermill": {
     "duration": 6.534098,
     "end_time": "2025-06-17T18:20:06.591546",
     "exception": false,
     "start_time": "2025-06-17T18:20:00.057448",
     "status": "completed"
    },
    "tags": []
   },
   "outputs": [
    {
     "name": "stdout",
     "output_type": "stream",
     "text": [
      "Dataset shape: (253680, 22)\n"
     ]
    },
    {
     "data": {
      "text/html": [
       "<div>\n",
       "<style scoped>\n",
       "    .dataframe tbody tr th:only-of-type {\n",
       "        vertical-align: middle;\n",
       "    }\n",
       "\n",
       "    .dataframe tbody tr th {\n",
       "        vertical-align: top;\n",
       "    }\n",
       "\n",
       "    .dataframe thead th {\n",
       "        text-align: right;\n",
       "    }\n",
       "</style>\n",
       "<table border=\"1\" class=\"dataframe\">\n",
       "  <thead>\n",
       "    <tr style=\"text-align: right;\">\n",
       "      <th></th>\n",
       "      <th>Diabetes_012</th>\n",
       "      <th>HighBP</th>\n",
       "      <th>HighChol</th>\n",
       "      <th>CholCheck</th>\n",
       "      <th>BMI</th>\n",
       "      <th>Smoker</th>\n",
       "      <th>Stroke</th>\n",
       "      <th>HeartDiseaseorAttack</th>\n",
       "      <th>PhysActivity</th>\n",
       "      <th>Fruits</th>\n",
       "      <th>...</th>\n",
       "      <th>AnyHealthcare</th>\n",
       "      <th>NoDocbcCost</th>\n",
       "      <th>GenHlth</th>\n",
       "      <th>MentHlth</th>\n",
       "      <th>PhysHlth</th>\n",
       "      <th>DiffWalk</th>\n",
       "      <th>Sex</th>\n",
       "      <th>Age</th>\n",
       "      <th>Education</th>\n",
       "      <th>Income</th>\n",
       "    </tr>\n",
       "  </thead>\n",
       "  <tbody>\n",
       "    <tr>\n",
       "      <th>0</th>\n",
       "      <td>0.0</td>\n",
       "      <td>1.0</td>\n",
       "      <td>1.0</td>\n",
       "      <td>1.0</td>\n",
       "      <td>40.0</td>\n",
       "      <td>1.0</td>\n",
       "      <td>0.0</td>\n",
       "      <td>0.0</td>\n",
       "      <td>0.0</td>\n",
       "      <td>0.0</td>\n",
       "      <td>...</td>\n",
       "      <td>1.0</td>\n",
       "      <td>0.0</td>\n",
       "      <td>5.0</td>\n",
       "      <td>18.0</td>\n",
       "      <td>15.0</td>\n",
       "      <td>1.0</td>\n",
       "      <td>0.0</td>\n",
       "      <td>9.0</td>\n",
       "      <td>4.0</td>\n",
       "      <td>3.0</td>\n",
       "    </tr>\n",
       "    <tr>\n",
       "      <th>1</th>\n",
       "      <td>0.0</td>\n",
       "      <td>0.0</td>\n",
       "      <td>0.0</td>\n",
       "      <td>0.0</td>\n",
       "      <td>25.0</td>\n",
       "      <td>1.0</td>\n",
       "      <td>0.0</td>\n",
       "      <td>0.0</td>\n",
       "      <td>1.0</td>\n",
       "      <td>0.0</td>\n",
       "      <td>...</td>\n",
       "      <td>0.0</td>\n",
       "      <td>1.0</td>\n",
       "      <td>3.0</td>\n",
       "      <td>0.0</td>\n",
       "      <td>0.0</td>\n",
       "      <td>0.0</td>\n",
       "      <td>0.0</td>\n",
       "      <td>7.0</td>\n",
       "      <td>6.0</td>\n",
       "      <td>1.0</td>\n",
       "    </tr>\n",
       "    <tr>\n",
       "      <th>2</th>\n",
       "      <td>0.0</td>\n",
       "      <td>1.0</td>\n",
       "      <td>1.0</td>\n",
       "      <td>1.0</td>\n",
       "      <td>28.0</td>\n",
       "      <td>0.0</td>\n",
       "      <td>0.0</td>\n",
       "      <td>0.0</td>\n",
       "      <td>0.0</td>\n",
       "      <td>1.0</td>\n",
       "      <td>...</td>\n",
       "      <td>1.0</td>\n",
       "      <td>1.0</td>\n",
       "      <td>5.0</td>\n",
       "      <td>30.0</td>\n",
       "      <td>30.0</td>\n",
       "      <td>1.0</td>\n",
       "      <td>0.0</td>\n",
       "      <td>9.0</td>\n",
       "      <td>4.0</td>\n",
       "      <td>8.0</td>\n",
       "    </tr>\n",
       "    <tr>\n",
       "      <th>3</th>\n",
       "      <td>0.0</td>\n",
       "      <td>1.0</td>\n",
       "      <td>0.0</td>\n",
       "      <td>1.0</td>\n",
       "      <td>27.0</td>\n",
       "      <td>0.0</td>\n",
       "      <td>0.0</td>\n",
       "      <td>0.0</td>\n",
       "      <td>1.0</td>\n",
       "      <td>1.0</td>\n",
       "      <td>...</td>\n",
       "      <td>1.0</td>\n",
       "      <td>0.0</td>\n",
       "      <td>2.0</td>\n",
       "      <td>0.0</td>\n",
       "      <td>0.0</td>\n",
       "      <td>0.0</td>\n",
       "      <td>0.0</td>\n",
       "      <td>11.0</td>\n",
       "      <td>3.0</td>\n",
       "      <td>6.0</td>\n",
       "    </tr>\n",
       "    <tr>\n",
       "      <th>4</th>\n",
       "      <td>0.0</td>\n",
       "      <td>1.0</td>\n",
       "      <td>1.0</td>\n",
       "      <td>1.0</td>\n",
       "      <td>24.0</td>\n",
       "      <td>0.0</td>\n",
       "      <td>0.0</td>\n",
       "      <td>0.0</td>\n",
       "      <td>1.0</td>\n",
       "      <td>1.0</td>\n",
       "      <td>...</td>\n",
       "      <td>1.0</td>\n",
       "      <td>0.0</td>\n",
       "      <td>2.0</td>\n",
       "      <td>3.0</td>\n",
       "      <td>0.0</td>\n",
       "      <td>0.0</td>\n",
       "      <td>0.0</td>\n",
       "      <td>11.0</td>\n",
       "      <td>5.0</td>\n",
       "      <td>4.0</td>\n",
       "    </tr>\n",
       "  </tbody>\n",
       "</table>\n",
       "<p>5 rows × 22 columns</p>\n",
       "</div>"
      ],
      "text/plain": [
       "   Diabetes_012  HighBP  HighChol  CholCheck   BMI  Smoker  Stroke  \\\n",
       "0           0.0     1.0       1.0        1.0  40.0     1.0     0.0   \n",
       "1           0.0     0.0       0.0        0.0  25.0     1.0     0.0   \n",
       "2           0.0     1.0       1.0        1.0  28.0     0.0     0.0   \n",
       "3           0.0     1.0       0.0        1.0  27.0     0.0     0.0   \n",
       "4           0.0     1.0       1.0        1.0  24.0     0.0     0.0   \n",
       "\n",
       "   HeartDiseaseorAttack  PhysActivity  Fruits  ...  AnyHealthcare  \\\n",
       "0                   0.0           0.0     0.0  ...            1.0   \n",
       "1                   0.0           1.0     0.0  ...            0.0   \n",
       "2                   0.0           0.0     1.0  ...            1.0   \n",
       "3                   0.0           1.0     1.0  ...            1.0   \n",
       "4                   0.0           1.0     1.0  ...            1.0   \n",
       "\n",
       "   NoDocbcCost  GenHlth  MentHlth  PhysHlth  DiffWalk  Sex   Age  Education  \\\n",
       "0          0.0      5.0      18.0      15.0       1.0  0.0   9.0        4.0   \n",
       "1          1.0      3.0       0.0       0.0       0.0  0.0   7.0        6.0   \n",
       "2          1.0      5.0      30.0      30.0       1.0  0.0   9.0        4.0   \n",
       "3          0.0      2.0       0.0       0.0       0.0  0.0  11.0        3.0   \n",
       "4          0.0      2.0       3.0       0.0       0.0  0.0  11.0        5.0   \n",
       "\n",
       "   Income  \n",
       "0     3.0  \n",
       "1     1.0  \n",
       "2     8.0  \n",
       "3     6.0  \n",
       "4     4.0  \n",
       "\n",
       "[5 rows x 22 columns]"
      ]
     },
     "execution_count": 1,
     "metadata": {},
     "output_type": "execute_result"
    }
   ],
   "source": [
    "# Import necessary libraries\n",
    "import numpy as np\n",
    "import pandas as pd\n",
    "import matplotlib.pyplot as plt\n",
    "import seaborn as sns\n",
    "from sklearn.model_selection import train_test_split\n",
    "from sklearn.preprocessing import StandardScaler\n",
    "from sklearn.ensemble import RandomForestClassifier\n",
    "from sklearn.metrics import accuracy_score, classification_report, confusion_matrix\n",
    "\n",
    "# Load the dataset\n",
    "df = pd.read_csv('/kaggle/input/diabetes-health-indicators-dataset/diabetes_012_health_indicators_BRFSS2015.csv')\n",
    "\n",
    "# Display basic info\n",
    "print(f\"Dataset shape: {df.shape}\")\n",
    "df.head()"
   ]
  },
  {
   "cell_type": "markdown",
   "id": "08bdd958",
   "metadata": {
    "papermill": {
     "duration": 0.004293,
     "end_time": "2025-06-17T18:20:06.599781",
     "exception": false,
     "start_time": "2025-06-17T18:20:06.595488",
     "status": "completed"
    },
    "tags": []
   },
   "source": [
    "# 2: Exploratory Data Analysis (EDA)"
   ]
  },
  {
   "cell_type": "code",
   "execution_count": 2,
   "id": "0ec457bb",
   "metadata": {
    "execution": {
     "iopub.execute_input": "2025-06-17T18:20:06.609372Z",
     "iopub.status.busy": "2025-06-17T18:20:06.607954Z",
     "iopub.status.idle": "2025-06-17T18:20:07.751135Z",
     "shell.execute_reply": "2025-06-17T18:20:07.750187Z"
    },
    "papermill": {
     "duration": 1.149697,
     "end_time": "2025-06-17T18:20:07.753214",
     "exception": false,
     "start_time": "2025-06-17T18:20:06.603517",
     "status": "completed"
    },
    "tags": []
   },
   "outputs": [
    {
     "data": {
      "image/png": "[encoded data removed]",
      "text/plain": [
       "<Figure size 800x500 with 1 Axes>"
      ]
     },
     "metadata": {},
     "output_type": "display_data"
    },
    {
     "name": "stdout",
     "output_type": "stream",
     "text": [
      "Class distribution (%):\n",
      "Diabetes_012\n",
      "0.0    84.241170\n",
      "2.0    13.933302\n",
      "1.0     1.825528\n",
      "Name: proportion, dtype: float64\n",
      "\n",
      "Missing values per column:\n",
      "Diabetes_012            0\n",
      "HighBP                  0\n",
      "HighChol                0\n",
      "CholCheck               0\n",
      "BMI                     0\n",
      "Smoker                  0\n",
      "Stroke                  0\n",
      "HeartDiseaseorAttack    0\n",
      "PhysActivity            0\n",
      "Fruits                  0\n",
      "Veggies                 0\n",
      "HvyAlcoholConsump       0\n",
      "AnyHealthcare           0\n",
      "NoDocbcCost             0\n",
      "GenHlth                 0\n",
      "MentHlth                0\n",
      "PhysHlth                0\n",
      "DiffWalk                0\n",
      "Sex                     0\n",
      "Age                     0\n",
      "Education               0\n",
      "Income                  0\n",
      "dtype: int64\n"
     ]
    },
    {
     "data": {
      "image/png": "[encoded data removed]",
      "text/plain": [
       "<Figure size 1200x600 with 4 Axes>"
      ]
     },
     "metadata": {},
     "output_type": "display_data"
    }
   ],
   "source": [
    "# Check target variable distribution\n",
    "plt.figure(figsize=(8,5))\n",
    "sns.countplot(data=df, x='Diabetes_012')\n",
    "plt.title('Diabetes Class Distribution')\n",
    "plt.show()\n",
    "\n",
    "# Print class percentages\n",
    "print(\"Class distribution (%):\")\n",
    "print(df['Diabetes_012'].value_counts(normalize=True)*100)\n",
    "\n",
    "# Check missing values\n",
    "print(\"\\nMissing values per column:\")\n",
    "print(df.isnull().sum())\n",
    "\n",
    "# Plot numerical feature distributions\n",
    "num_cols = ['BMI', 'MentHlth', 'PhysHlth']\n",
    "df[num_cols].hist(bins=30, figsize=(12,6))\n",
    "plt.tight_layout()\n",
    "plt.show()"
   ]
  },
  {
   "cell_type": "markdown",
   "id": "95474c0c",
   "metadata": {
    "papermill": {
     "duration": 0.005891,
     "end_time": "2025-06-17T18:20:07.764424",
     "exception": false,
     "start_time": "2025-06-17T18:20:07.758533",
     "status": "completed"
    },
    "tags": []
   },
   "source": [
    "# 3: Data Preprocessing"
   ]
  },
  {
   "cell_type": "code",
   "execution_count": 3,
   "id": "b593e032",
   "metadata": {
    "execution": {
     "iopub.execute_input": "2025-06-17T18:20:07.775423Z",
     "iopub.status.busy": "2025-06-17T18:20:07.775059Z",
     "iopub.status.idle": "2025-06-17T18:20:07.916055Z",
     "shell.execute_reply": "2025-06-17T18:20:07.914692Z"
    },
    "papermill": {
     "duration": 0.148432,
     "end_time": "2025-06-17T18:20:07.917769",
     "exception": false,
     "start_time": "2025-06-17T18:20:07.769337",
     "status": "completed"
    },
    "tags": []
   },
   "outputs": [
    {
     "name": "stdout",
     "output_type": "stream",
     "text": [
      "New binary target distribution:\n",
      "Diabetes_binary\n",
      "0    84.24117\n",
      "1    15.75883\n",
      "Name: proportion, dtype: float64\n"
     ]
    }
   ],
   "source": [
    "# For binary classification, we'll combine prediabetes and diabetes (classes 1 and 2)\n",
    "df['Diabetes_binary'] = df['Diabetes_012'].apply(lambda x: 1 if x >= 1 else 0)\n",
    "\n",
    "# Verify new target distribution\n",
    "print(\"New binary target distribution:\")\n",
    "print(df['Diabetes_binary'].value_counts(normalize=True)*100)\n",
    "\n",
    "# Select features and target\n",
    "features = ['HighBP', 'HighChol', 'BMI', 'Smoker', 'HeartDiseaseorAttack', \n",
    "            'PhysActivity', 'GenHlth', 'MentHlth', 'PhysHlth', 'Age', 'Income']\n",
    "X = df[features]\n",
    "y = df['Diabetes_binary']\n",
    "\n",
    "# Convert all to float32 to reduce memory usage\n",
    "X = X.astype('float32')\n",
    "y = y.astype('float32')"
   ]
  },
  {
   "cell_type": "markdown",
   "id": "efa5cb87",
   "metadata": {
    "papermill": {
     "duration": 0.00472,
     "end_time": "2025-06-17T18:20:07.927684",
     "exception": false,
     "start_time": "2025-06-17T18:20:07.922964",
     "status": "completed"
    },
    "tags": []
   },
   "source": [
    "# 4: Train-Test Split"
   ]
  },
  {
   "cell_type": "code",
   "execution_count": 4,
   "id": "5d763f0a",
   "metadata": {
    "execution": {
     "iopub.execute_input": "2025-06-17T18:20:07.938900Z",
     "iopub.status.busy": "2025-06-17T18:20:07.938581Z",
     "iopub.status.idle": "2025-06-17T18:20:08.060830Z",
     "shell.execute_reply": "2025-06-17T18:20:08.059156Z"
    },
    "papermill": {
     "duration": 0.130546,
     "end_time": "2025-06-17T18:20:08.063028",
     "exception": false,
     "start_time": "2025-06-17T18:20:07.932482",
     "status": "completed"
    },
    "tags": []
   },
   "outputs": [
    {
     "name": "stdout",
     "output_type": "stream",
     "text": [
      "Training set: (202944, 11)\n",
      "Test set: (50736, 11)\n",
      "\n",
      "Training class distribution:\n",
      "Diabetes_binary\n",
      "0.0    0.84241\n",
      "1.0    0.15759\n",
      "Name: proportion, dtype: float64\n",
      "\n",
      "Test class distribution:\n",
      "Diabetes_binary\n",
      "0.0    0.84242\n",
      "1.0    0.15758\n",
      "Name: proportion, dtype: float64\n"
     ]
    }
   ],
   "source": [
    "# Stratified split to maintain class distribution\n",
    "X_train, X_test, y_train, y_test = train_test_split(\n",
    "    X, y,\n",
    "    test_size=0.2,\n",
    "    random_state=42,\n",
    "    stratify=y\n",
    ")\n",
    "\n",
    "print(f\"Training set: {X_train.shape}\")\n",
    "print(f\"Test set: {X_test.shape}\")\n",
    "\n",
    "# Verify distributions\n",
    "print(\"\\nTraining class distribution:\")\n",
    "print(y_train.value_counts(normalize=True))\n",
    "print(\"\\nTest class distribution:\")\n",
    "print(y_test.value_counts(normalize=True))"
   ]
  },
  {
   "cell_type": "markdown",
   "id": "5e46d9b2",
   "metadata": {
    "papermill": {
     "duration": 0.005122,
     "end_time": "2025-06-17T18:20:08.073341",
     "exception": false,
     "start_time": "2025-06-17T18:20:08.068219",
     "status": "completed"
    },
    "tags": []
   },
   "source": [
    "#  5: Feature Scaling"
   ]
  },
  {
   "cell_type": "code",
   "execution_count": 5,
   "id": "49b70245",
   "metadata": {
    "execution": {
     "iopub.execute_input": "2025-06-17T18:20:08.085002Z",
     "iopub.status.busy": "2025-06-17T18:20:08.084668Z",
     "iopub.status.idle": "2025-06-17T18:20:08.149648Z",
     "shell.execute_reply": "2025-06-17T18:20:08.148034Z"
    },
    "papermill": {
     "duration": 0.072883,
     "end_time": "2025-06-17T18:20:08.151443",
     "exception": false,
     "start_time": "2025-06-17T18:20:08.078560",
     "status": "completed"
    },
    "tags": []
   },
   "outputs": [
    {
     "name": "stdout",
     "output_type": "stream",
     "text": [
      "Scaled training data sample:\n",
      "        HighBP  HighChol       BMI  Smoker  HeartDiseaseorAttack  \\\n",
      "124535     1.0       1.0 -0.058766     0.0                   1.0   \n",
      "14723      0.0       0.0 -0.663964     0.0                   0.0   \n",
      "121327     1.0       1.0  3.269824     1.0                   1.0   \n",
      "81372      0.0       0.0  3.118525     1.0                   0.0   \n",
      "15024      1.0       1.0 -0.210065     0.0                   0.0   \n",
      "\n",
      "        PhysActivity  GenHlth  MentHlth  PhysHlth   Age  Income  \n",
      "124535           0.0      4.0 -0.429213  0.087812  13.0     6.0  \n",
      "14723            1.0      3.0  0.246027  0.661519   8.0     8.0  \n",
      "121327           0.0      4.0 -0.159117  1.120485   8.0     4.0  \n",
      "81372            0.0      3.0  3.622227  1.235226   4.0     4.0  \n",
      "15024            1.0      1.0 -0.429213 -0.485896  13.0     7.0  \n"
     ]
    }
   ],
   "source": [
    "# Scale numerical features\n",
    "scaler = StandardScaler()\n",
    "num_cols = ['BMI', 'MentHlth', 'PhysHlth']\n",
    "\n",
    "X_train[num_cols] = scaler.fit_transform(X_train[num_cols])\n",
    "X_test[num_cols] = scaler.transform(X_test[num_cols])\n",
    "\n",
    "# Verify scaling\n",
    "print(\"Scaled training data sample:\")\n",
    "print(X_train.head())"
   ]
  },
  {
   "cell_type": "markdown",
   "id": "53b47f32",
   "metadata": {
    "papermill": {
     "duration": 0.004911,
     "end_time": "2025-06-17T18:20:08.161659",
     "exception": false,
     "start_time": "2025-06-17T18:20:08.156748",
     "status": "completed"
    },
    "tags": []
   },
   "source": [
    "# 6: Model Training"
   ]
  },
  {
   "cell_type": "code",
   "execution_count": 6,
   "id": "572a678d",
   "metadata": {
    "execution": {
     "iopub.execute_input": "2025-06-17T18:20:08.173149Z",
     "iopub.status.busy": "2025-06-17T18:20:08.172818Z",
     "iopub.status.idle": "2025-06-17T18:20:18.345804Z",
     "shell.execute_reply": "2025-06-17T18:20:18.344728Z"
    },
    "papermill": {
     "duration": 10.181027,
     "end_time": "2025-06-17T18:20:18.347790",
     "exception": false,
     "start_time": "2025-06-17T18:20:08.166763",
     "status": "completed"
    },
    "tags": []
   },
   "outputs": [
    {
     "data": {
      "text/html": [
       "<style>#sk-container-id-1 {color: black;background-color: white;}#sk-container-id-1 pre{padding: 0;}#sk-container-id-1 div.sk-toggleable {background-color: white;}#sk-container-id-1 label.sk-toggleable__label {cursor: pointer;display: block;width: 100%;margin-bottom: 0;padding: 0.3em;box-sizing: border-box;text-align: center;}#sk-container-id-1 label.sk-toggleable__label-arrow:before {content: \"▸\";float: left;margin-right: 0.25em;color: #696969;}#sk-container-id-1 label.sk-toggleable__label-arrow:hover:before {color: black;}#sk-container-id-1 div.sk-estimator:hover label.sk-toggleable__label-arrow:before {color: black;}#sk-container-id-1 div.sk-toggleable__content {max-height: 0;max-width: 0;overflow: hidden;text-align: left;background-color: #f0f8ff;}#sk-container-id-1 div.sk-toggleable__content pre {margin: 0.2em;color: black;border-radius: 0.25em;background-color: #f0f8ff;}#sk-container-id-1 input.sk-toggleable__control:checked~div.sk-toggleable__content {max-height: 200px;max-width: 100%;overflow: auto;}#sk-container-id-1 input.sk-toggleable__control:checked~label.sk-toggleable__label-arrow:before {content: \"▾\";}#sk-container-id-1 div.sk-estimator input.sk-toggleable__control:checked~label.sk-toggleable__label {background-color: #d4ebff;}#sk-container-id-1 div.sk-label input.sk-toggleable__control:checked~label.sk-toggleable__label {background-color: #d4ebff;}#sk-container-id-1 input.sk-hidden--visually {border: 0;clip: rect(1px 1px 1px 1px);clip: rect(1px, 1px, 1px, 1px);height: 1px;margin: -1px;overflow: hidden;padding: 0;position: absolute;width: 1px;}#sk-container-id-1 div.sk-estimator {font-family: monospace;background-color: #f0f8ff;border: 1px dotted black;border-radius: 0.25em;box-sizing: border-box;margin-bottom: 0.5em;}#sk-container-id-1 div.sk-estimator:hover {background-color: #d4ebff;}#sk-container-id-1 div.sk-parallel-item::after {content: \"\";width: 100%;border-bottom: 1px solid gray;flex-grow: 1;}#sk-container-id-1 div.sk-label:hover label.sk-toggleable__label {background-color: #d4ebff;}#sk-container-id-1 div.sk-serial::before {content: \"\";position: absolute;border-left: 1px solid gray;box-sizing: border-box;top: 0;bottom: 0;left: 50%;z-index: 0;}#sk-container-id-1 div.sk-serial {display: flex;flex-direction: column;align-items: center;background-color: white;padding-right: 0.2em;padding-left: 0.2em;position: relative;}#sk-container-id-1 div.sk-item {position: relative;z-index: 1;}#sk-container-id-1 div.sk-parallel {display: flex;align-items: stretch;justify-content: center;background-color: white;position: relative;}#sk-container-id-1 div.sk-item::before, #sk-container-id-1 div.sk-parallel-item::before {content: \"\";position: absolute;border-left: 1px solid gray;box-sizing: border-box;top: 0;bottom: 0;left: 50%;z-index: -1;}#sk-container-id-1 div.sk-parallel-item {display: flex;flex-direction: column;z-index: 1;position: relative;background-color: white;}#sk-container-id-1 div.sk-parallel-item:first-child::after {align-self: flex-end;width: 50%;}#sk-container-id-1 div.sk-parallel-item:last-child::after {align-self: flex-start;width: 50%;}#sk-container-id-1 div.sk-parallel-item:only-child::after {width: 0;}#sk-container-id-1 div.sk-dashed-wrapped {border: 1px dashed gray;margin: 0 0.4em 0.5em 0.4em;box-sizing: border-box;padding-bottom: 0.4em;background-color: white;}#sk-container-id-1 div.sk-label label {font-family: monospace;font-weight: bold;display: inline-block;line-height: 1.2em;}#sk-container-id-1 div.sk-label-container {text-align: center;}#sk-container-id-1 div.sk-container {/* jupyter's `normalize.less` sets `[hidden] { display: none; }` but bootstrap.min.css set `[hidden] { display: none !important; }` so we also need the `!important` here to be able to override the default hidden behavior on the sphinx rendered scikit-learn.org. See: https://github.com/scikit-learn/scikit-learn/issues/21755 */display: inline-block !important;position: relative;}#sk-container-id-1 div.sk-text-repr-fallback {display: none;}</style><div id=\"sk-container-id-1\" class=\"sk-top-container\"><div class=\"sk-text-repr-fallback\"><pre>RandomForestClassifier(class_weight=&#x27;balanced&#x27;, n_jobs=-1, random_state=42)</pre><b>In a Jupyter environment, please rerun this cell to show the HTML representation or trust the notebook. <br />On GitHub, the HTML representation is unable to render, please try loading this page with nbviewer.org.</b></div><div class=\"sk-container\" hidden><div class=\"sk-item\"><div class=\"sk-estimator sk-toggleable\"><input class=\"sk-toggleable__control sk-hidden--visually\" id=\"sk-estimator-id-1\" type=\"checkbox\" checked><label for=\"sk-estimator-id-1\" class=\"sk-toggleable__label sk-toggleable__label-arrow\">RandomForestClassifier</label><div class=\"sk-toggleable__content\"><pre>RandomForestClassifier(class_weight=&#x27;balanced&#x27;, n_jobs=-1, random_state=42)</pre></div></div></div></div></div>"
      ],
      "text/plain": [
       "RandomForestClassifier(class_weight='balanced', n_jobs=-1, random_state=42)"
      ]
     },
     "execution_count": 6,
     "metadata": {},
     "output_type": "execute_result"
    }
   ],
   "source": [
    "# Initialize and train Random Forest\n",
    "model = RandomForestClassifier(\n",
    "    n_estimators=100,\n",
    "    random_state=42,\n",
    "    class_weight='balanced',  # Handle class imbalance\n",
    "    n_jobs=-1\n",
    ")\n",
    "\n",
    "model.fit(X_train, y_train)"
   ]
  },
  {
   "cell_type": "markdown",
   "id": "9a4eb08c",
   "metadata": {
    "papermill": {
     "duration": 0.005321,
     "end_time": "2025-06-17T18:20:18.359057",
     "exception": false,
     "start_time": "2025-06-17T18:20:18.353736",
     "status": "completed"
    },
    "tags": []
   },
   "source": [
    "# 7: Model Evaluation"
   ]
  },
  {
   "cell_type": "code",
   "execution_count": 7,
   "id": "ff04690b",
   "metadata": {
    "execution": {
     "iopub.execute_input": "2025-06-17T18:20:18.371160Z",
     "iopub.status.busy": "2025-06-17T18:20:18.370786Z",
     "iopub.status.idle": "2025-06-17T18:20:19.405848Z",
     "shell.execute_reply": "2025-06-17T18:20:19.404836Z"
    },
    "papermill": {
     "duration": 1.043256,
     "end_time": "2025-06-17T18:20:19.407728",
     "exception": false,
     "start_time": "2025-06-17T18:20:18.364472",
     "status": "completed"
    },
    "tags": []
   },
   "outputs": [
    {
     "name": "stdout",
     "output_type": "stream",
     "text": [
      "Model Accuracy: 0.8129927467675812\n",
      "\n",
      "Classification Report:\n",
      "              precision    recall  f1-score   support\n",
      "\n",
      "         0.0       0.87      0.91      0.89     42741\n",
      "         1.0       0.37      0.27      0.31      7995\n",
      "\n",
      "    accuracy                           0.81     50736\n",
      "   macro avg       0.62      0.59      0.60     50736\n",
      "weighted avg       0.79      0.81      0.80     50736\n",
      "\n"
     ]
    },
    {
     "data": {
      "image/png": "[encoded data removed]",
      "text/plain": [
       "<Figure size 640x480 with 2 Axes>"
      ]
     },
     "metadata": {},
     "output_type": "display_data"
    }
   ],
   "source": [
    "# Generate predictions\n",
    "y_pred = model.predict(X_test)\n",
    "\n",
    "# Calculate metrics\n",
    "print(\"Model Accuracy:\", accuracy_score(y_test, y_pred))\n",
    "print(\"\\nClassification Report:\")\n",
    "print(classification_report(y_test, y_pred))\n",
    "\n",
    "# Confusion matrix\n",
    "cm = confusion_matrix(y_test, y_pred)\n",
    "sns.heatmap(cm, annot=True, fmt='d', cmap='Blues')\n",
    "plt.xlabel('Predicted')\n",
    "plt.ylabel('Actual')\n",
    "plt.title('Confusion Matrix')\n",
    "plt.show()"
   ]
  },
  {
   "cell_type": "markdown",
   "id": "c9742c86",
   "metadata": {
    "papermill": {
     "duration": 0.005623,
     "end_time": "2025-06-17T18:20:19.421203",
     "exception": false,
     "start_time": "2025-06-17T18:20:19.415580",
     "status": "completed"
    },
    "tags": []
   },
   "source": [
    "# 8: Feature Importance Analysis"
   ]
  },
  {
   "cell_type": "code",
   "execution_count": 8,
   "id": "bde2e275",
   "metadata": {
    "execution": {
     "iopub.execute_input": "2025-06-17T18:20:19.434424Z",
     "iopub.status.busy": "2025-06-17T18:20:19.434047Z",
     "iopub.status.idle": "2025-06-17T18:20:19.755603Z",
     "shell.execute_reply": "2025-06-17T18:20:19.754588Z"
    },
    "papermill": {
     "duration": 0.330368,
     "end_time": "2025-06-17T18:20:19.757433",
     "exception": false,
     "start_time": "2025-06-17T18:20:19.427065",
     "status": "completed"
    },
    "tags": []
   },
   "outputs": [
    {
     "data": {
      "image/png": "[encoded data removed]",
      "text/plain": [
       "<Figure size 1000x600 with 1 Axes>"
      ]
     },
     "metadata": {},
     "output_type": "display_data"
    }
   ],
   "source": [
    "# Get feature importances\n",
    "importance = pd.DataFrame({\n",
    "    'Feature': X_train.columns,\n",
    "    'Importance': model.feature_importances_\n",
    "}).sort_values('Importance', ascending=False)\n",
    "\n",
    "# Plot\n",
    "plt.figure(figsize=(10,6))\n",
    "sns.barplot(data=importance, x='Importance', y='Feature')\n",
    "plt.title('Feature Importance')\n",
    "plt.show()"
   ]
  }
 ],
 "metadata": {
  "kaggle": {
   "accelerator": "none",
   "dataSources": [
    {
     "datasetId": 1703281,
     "sourceId": 2789260,
     "sourceType": "datasetVersion"
    }
   ],
   "dockerImageVersionId": 31040,
   "isGpuEnabled": false,
   "isInternetEnabled": true,
   "language": "python",
   "sourceType": "notebook"
  },
  "kernelspec": {
   "display_name": "Python 3",
   "language": "python",
   "name": "python3"
  },
  "language_info": {
   "codemirror_mode": {
    "name": "ipython",
    "version": 3
   },
   "file_extension": ".py",
   "mimetype": "text/x-python",
   "name": "python",
   "nbconvert_exporter": "python",
   "pygments_lexer": "ipython3",
   "version": "3.11.11"
  },
  "papermill": {
   "default_parameters": {},
   "duration": 27.349103,
   "end_time": "2025-06-17T18:20:20.686876",
   "environment_variables": {},
   "exception": null,
   "input_path": "__notebook__.ipynb",
   "output_path": "__notebook__.ipynb",
   "parameters": {},
   "start_time": "2025-06-17T18:19:53.337773",
   "version": "2.6.0"
  }
 },
 "nbformat": 4,
 "nbformat_minor": 5
}
